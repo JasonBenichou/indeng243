{
 "cells": [
  {
   "cell_type": "code",
   "execution_count": 1,
   "id": "bad1c9fa",
   "metadata": {},
   "outputs": [],
   "source": [
    "import os\n",
    "import pandas as pd\n",
    "import numpy as np\n",
    "import matplotlib.pyplot as plt\n",
    "\n",
    "# Ignore warnings\n",
    "import warnings\n",
    "warnings.filterwarnings('ignore')"
   ]
  },
  {
   "cell_type": "markdown",
   "id": "bdbf8fa5",
   "metadata": {},
   "source": [
    "# Data Cleaning"
   ]
  },
  {
   "cell_type": "code",
   "execution_count": 2,
   "id": "c692b4d5",
   "metadata": {},
   "outputs": [
    {
     "data": {
      "text/html": [
       "<div>\n",
       "<style scoped>\n",
       "    .dataframe tbody tr th:only-of-type {\n",
       "        vertical-align: middle;\n",
       "    }\n",
       "\n",
       "    .dataframe tbody tr th {\n",
       "        vertical-align: top;\n",
       "    }\n",
       "\n",
       "    .dataframe thead th {\n",
       "        text-align: right;\n",
       "    }\n",
       "</style>\n",
       "<table border=\"1\" class=\"dataframe\">\n",
       "  <thead>\n",
       "    <tr style=\"text-align: right;\">\n",
       "      <th></th>\n",
       "      <th>risk</th>\n",
       "      <th>clientID</th>\n",
       "      <th>dateID</th>\n",
       "      <th>avgMonthlyIncome</th>\n",
       "      <th>education</th>\n",
       "      <th>expSavings</th>\n",
       "      <th>expTransport</th>\n",
       "      <th>expGroceries</th>\n",
       "      <th>expLeisure</th>\n",
       "      <th>expShopping</th>\n",
       "      <th>expUtilities</th>\n",
       "      <th>expOther</th>\n",
       "      <th>cardLevel</th>\n",
       "      <th>amountDeposit</th>\n",
       "      <th>amountLoan</th>\n",
       "      <th>avgTransaction</th>\n",
       "      <th>avgNumTransactions</th>\n",
       "      <th>largestSingleTransaction</th>\n",
       "    </tr>\n",
       "  </thead>\n",
       "  <tbody>\n",
       "    <tr>\n",
       "      <th>0</th>\n",
       "      <td>0.592</td>\n",
       "      <td>user-0000000000000000</td>\n",
       "      <td>2021-11-01</td>\n",
       "      <td>272817.5</td>\n",
       "      <td>NaN</td>\n",
       "      <td>0.20</td>\n",
       "      <td>0.09</td>\n",
       "      <td>0.12</td>\n",
       "      <td>0.16</td>\n",
       "      <td>0.14</td>\n",
       "      <td>0.14</td>\n",
       "      <td>0.14</td>\n",
       "      <td>2</td>\n",
       "      <td>0.0</td>\n",
       "      <td>0.0</td>\n",
       "      <td>1454.8</td>\n",
       "      <td>185.5</td>\n",
       "      <td>49832.0</td>\n",
       "    </tr>\n",
       "    <tr>\n",
       "      <th>1</th>\n",
       "      <td>0.485</td>\n",
       "      <td>user-0000000000000001</td>\n",
       "      <td>2021-11-01</td>\n",
       "      <td>162850.8</td>\n",
       "      <td>college</td>\n",
       "      <td>0.16</td>\n",
       "      <td>0.15</td>\n",
       "      <td>0.11</td>\n",
       "      <td>0.14</td>\n",
       "      <td>0.14</td>\n",
       "      <td>0.12</td>\n",
       "      <td>0.17</td>\n",
       "      <td>0</td>\n",
       "      <td>0.0</td>\n",
       "      <td>100000.0</td>\n",
       "      <td>3005.4</td>\n",
       "      <td>173.9</td>\n",
       "      <td>49025.8</td>\n",
       "    </tr>\n",
       "    <tr>\n",
       "      <th>2</th>\n",
       "      <td>0.300</td>\n",
       "      <td>user-0000000000000002</td>\n",
       "      <td>2021-11-01</td>\n",
       "      <td>640200.6</td>\n",
       "      <td>college</td>\n",
       "      <td>0.18</td>\n",
       "      <td>0.08</td>\n",
       "      <td>0.09</td>\n",
       "      <td>0.13</td>\n",
       "      <td>0.23</td>\n",
       "      <td>0.10</td>\n",
       "      <td>0.19</td>\n",
       "      <td>1</td>\n",
       "      <td>50000.0</td>\n",
       "      <td>0.0</td>\n",
       "      <td>39649.6</td>\n",
       "      <td>556.2</td>\n",
       "      <td>19337.5</td>\n",
       "    </tr>\n",
       "    <tr>\n",
       "      <th>3</th>\n",
       "      <td>0.664</td>\n",
       "      <td>user-0000000000000003</td>\n",
       "      <td>2021-11-01</td>\n",
       "      <td>29308.5</td>\n",
       "      <td>BSc</td>\n",
       "      <td>0.12</td>\n",
       "      <td>0.13</td>\n",
       "      <td>0.07</td>\n",
       "      <td>0.18</td>\n",
       "      <td>0.26</td>\n",
       "      <td>0.15</td>\n",
       "      <td>0.08</td>\n",
       "      <td>2</td>\n",
       "      <td>0.0</td>\n",
       "      <td>0.0</td>\n",
       "      <td>22542.6</td>\n",
       "      <td>351.6</td>\n",
       "      <td>4724.4</td>\n",
       "    </tr>\n",
       "    <tr>\n",
       "      <th>4</th>\n",
       "      <td>0.643</td>\n",
       "      <td>user-0000000000000004</td>\n",
       "      <td>2021-11-01</td>\n",
       "      <td>420154.1</td>\n",
       "      <td>NaN</td>\n",
       "      <td>0.09</td>\n",
       "      <td>0.14</td>\n",
       "      <td>0.21</td>\n",
       "      <td>0.12</td>\n",
       "      <td>0.11</td>\n",
       "      <td>0.11</td>\n",
       "      <td>0.22</td>\n",
       "      <td>2</td>\n",
       "      <td>0.0</td>\n",
       "      <td>0.0</td>\n",
       "      <td>2744.4</td>\n",
       "      <td>310.5</td>\n",
       "      <td>5445.0</td>\n",
       "    </tr>\n",
       "  </tbody>\n",
       "</table>\n",
       "</div>"
      ],
      "text/plain": [
       "    risk               clientID      dateID  avgMonthlyIncome education  \\\n",
       "0  0.592  user-0000000000000000  2021-11-01          272817.5       NaN   \n",
       "1  0.485  user-0000000000000001  2021-11-01          162850.8   college   \n",
       "2  0.300  user-0000000000000002  2021-11-01          640200.6   college   \n",
       "3  0.664  user-0000000000000003  2021-11-01           29308.5       BSc   \n",
       "4  0.643  user-0000000000000004  2021-11-01          420154.1       NaN   \n",
       "\n",
       "   expSavings  expTransport  expGroceries  expLeisure  expShopping  \\\n",
       "0        0.20          0.09          0.12        0.16         0.14   \n",
       "1        0.16          0.15          0.11        0.14         0.14   \n",
       "2        0.18          0.08          0.09        0.13         0.23   \n",
       "3        0.12          0.13          0.07        0.18         0.26   \n",
       "4        0.09          0.14          0.21        0.12         0.11   \n",
       "\n",
       "   expUtilities  expOther  cardLevel  amountDeposit  amountLoan  \\\n",
       "0          0.14      0.14          2            0.0         0.0   \n",
       "1          0.12      0.17          0            0.0    100000.0   \n",
       "2          0.10      0.19          1        50000.0         0.0   \n",
       "3          0.15      0.08          2            0.0         0.0   \n",
       "4          0.11      0.22          2            0.0         0.0   \n",
       "\n",
       "   avgTransaction  avgNumTransactions  largestSingleTransaction  \n",
       "0          1454.8               185.5                   49832.0  \n",
       "1          3005.4               173.9                   49025.8  \n",
       "2         39649.6               556.2                   19337.5  \n",
       "3         22542.6               351.6                    4724.4  \n",
       "4          2744.4               310.5                    5445.0  "
      ]
     },
     "execution_count": 2,
     "metadata": {},
     "output_type": "execute_result"
    }
   ],
   "source": [
    "# Import data\n",
    "df = pd.read_csv('investor_data.csv')\n",
    "df.head()"
   ]
  },
  {
   "cell_type": "code",
   "execution_count": 3,
   "id": "e0b40cce",
   "metadata": {},
   "outputs": [
    {
     "name": "stdout",
     "output_type": "stream",
     "text": [
      "<class 'pandas.core.frame.DataFrame'>\n",
      "RangeIndex: 72000 entries, 0 to 71999\n",
      "Data columns (total 18 columns):\n",
      " #   Column                    Non-Null Count  Dtype  \n",
      "---  ------                    --------------  -----  \n",
      " 0   risk                      72000 non-null  float64\n",
      " 1   clientID                  72000 non-null  object \n",
      " 2   dateID                    72000 non-null  object \n",
      " 3   avgMonthlyIncome          72000 non-null  float64\n",
      " 4   education                 50400 non-null  object \n",
      " 5   expSavings                72000 non-null  float64\n",
      " 6   expTransport              72000 non-null  float64\n",
      " 7   expGroceries              72000 non-null  float64\n",
      " 8   expLeisure                72000 non-null  float64\n",
      " 9   expShopping               72000 non-null  float64\n",
      " 10  expUtilities              72000 non-null  float64\n",
      " 11  expOther                  72000 non-null  float64\n",
      " 12  cardLevel                 72000 non-null  int64  \n",
      " 13  amountDeposit             72000 non-null  float64\n",
      " 14  amountLoan                72000 non-null  float64\n",
      " 15  avgTransaction            72000 non-null  float64\n",
      " 16  avgNumTransactions        72000 non-null  float64\n",
      " 17  largestSingleTransaction  72000 non-null  float64\n",
      "dtypes: float64(14), int64(1), object(3)\n",
      "memory usage: 9.9+ MB\n"
     ]
    }
   ],
   "source": [
    "df.info()"
   ]
  },
  {
   "cell_type": "code",
   "execution_count": 4,
   "id": "c80a7985",
   "metadata": {},
   "outputs": [
    {
     "name": "stdout",
     "output_type": "stream",
     "text": [
      "risk                            0\n",
      "clientID                        0\n",
      "dateID                          0\n",
      "avgMonthlyIncome                0\n",
      "education                   21600\n",
      "expSavings                      0\n",
      "expTransport                    0\n",
      "expGroceries                    0\n",
      "expLeisure                      0\n",
      "expShopping                     0\n",
      "expUtilities                    0\n",
      "expOther                        0\n",
      "cardLevel                       0\n",
      "amountDeposit                   0\n",
      "amountLoan                      0\n",
      "avgTransaction                  0\n",
      "avgNumTransactions              0\n",
      "largestSingleTransaction        0\n",
      "dtype: int64\n"
     ]
    }
   ],
   "source": [
    "# Check for missing values\n",
    "print(df.isnull().sum())"
   ]
  },
  {
   "cell_type": "code",
   "execution_count": 5,
   "id": "cc50271d",
   "metadata": {},
   "outputs": [
    {
     "name": "stdout",
     "output_type": "stream",
     "text": [
      "risk                        0\n",
      "clientID                    0\n",
      "dateID                      0\n",
      "avgMonthlyIncome            0\n",
      "education                   0\n",
      "expSavings                  0\n",
      "expTransport                0\n",
      "expGroceries                0\n",
      "expLeisure                  0\n",
      "expShopping                 0\n",
      "expUtilities                0\n",
      "expOther                    0\n",
      "cardLevel                   0\n",
      "amountDeposit               0\n",
      "amountLoan                  0\n",
      "avgTransaction              0\n",
      "avgNumTransactions          0\n",
      "largestSingleTransaction    0\n",
      "dtype: int64\n"
     ]
    }
   ],
   "source": [
    "# Drop missing values\n",
    "df.dropna(inplace = True)\n",
    "print(df.isnull().sum())"
   ]
  },
  {
   "cell_type": "code",
   "execution_count": 6,
   "id": "15ae7fcd",
   "metadata": {},
   "outputs": [
    {
     "data": {
      "text/plain": [
       "0"
      ]
     },
     "execution_count": 6,
     "metadata": {},
     "output_type": "execute_result"
    }
   ],
   "source": [
    "# Check duplicates\n",
    "df.duplicated().sum()"
   ]
  },
  {
   "cell_type": "code",
   "execution_count": 7,
   "id": "7ededa8d",
   "metadata": {},
   "outputs": [],
   "source": [
    "# Change 'dateID' object to float\n",
    "df['dateID'] = pd.to_datetime(df['dateID'], format = '%Y-%m-%d')\n",
    "df['Day'] = df['dateID'].dt.day\n",
    "df['Month'] = df['dateID'].dt.month\n",
    "df['Year'] = df['dateID'].dt.year\n",
    "df.drop(columns = ['dateID'], inplace = True)"
   ]
  },
  {
   "cell_type": "code",
   "execution_count": 8,
   "id": "8163ec2d",
   "metadata": {},
   "outputs": [],
   "source": [
    "# Get dummy values for categorical predictor 'education'\n",
    "df = pd.get_dummies(df, prefix = ['education'], columns = ['education'])"
   ]
  },
  {
   "cell_type": "code",
   "execution_count": 9,
   "id": "8b54442c",
   "metadata": {},
   "outputs": [
    {
     "data": {
      "text/html": [
       "<div>\n",
       "<style scoped>\n",
       "    .dataframe tbody tr th:only-of-type {\n",
       "        vertical-align: middle;\n",
       "    }\n",
       "\n",
       "    .dataframe tbody tr th {\n",
       "        vertical-align: top;\n",
       "    }\n",
       "\n",
       "    .dataframe thead th {\n",
       "        text-align: right;\n",
       "    }\n",
       "</style>\n",
       "<table border=\"1\" class=\"dataframe\">\n",
       "  <thead>\n",
       "    <tr style=\"text-align: right;\">\n",
       "      <th></th>\n",
       "      <th>risk</th>\n",
       "      <th>clientID</th>\n",
       "      <th>avgMonthlyIncome</th>\n",
       "      <th>expSavings</th>\n",
       "      <th>expTransport</th>\n",
       "      <th>expGroceries</th>\n",
       "      <th>expLeisure</th>\n",
       "      <th>expShopping</th>\n",
       "      <th>expUtilities</th>\n",
       "      <th>expOther</th>\n",
       "      <th>...</th>\n",
       "      <th>avgTransaction</th>\n",
       "      <th>avgNumTransactions</th>\n",
       "      <th>largestSingleTransaction</th>\n",
       "      <th>Day</th>\n",
       "      <th>Month</th>\n",
       "      <th>Year</th>\n",
       "      <th>education_BSc</th>\n",
       "      <th>education_MSc</th>\n",
       "      <th>education_PhD</th>\n",
       "      <th>education_college</th>\n",
       "    </tr>\n",
       "  </thead>\n",
       "  <tbody>\n",
       "    <tr>\n",
       "      <th>1</th>\n",
       "      <td>5.15</td>\n",
       "      <td>user-0000000000000001</td>\n",
       "      <td>162850.8</td>\n",
       "      <td>0.16</td>\n",
       "      <td>0.15</td>\n",
       "      <td>0.11</td>\n",
       "      <td>0.14</td>\n",
       "      <td>0.14</td>\n",
       "      <td>0.12</td>\n",
       "      <td>0.17</td>\n",
       "      <td>...</td>\n",
       "      <td>3005.4</td>\n",
       "      <td>173.9</td>\n",
       "      <td>49025.8</td>\n",
       "      <td>1</td>\n",
       "      <td>11</td>\n",
       "      <td>2021</td>\n",
       "      <td>0</td>\n",
       "      <td>0</td>\n",
       "      <td>0</td>\n",
       "      <td>1</td>\n",
       "    </tr>\n",
       "    <tr>\n",
       "      <th>2</th>\n",
       "      <td>7.00</td>\n",
       "      <td>user-0000000000000002</td>\n",
       "      <td>640200.6</td>\n",
       "      <td>0.18</td>\n",
       "      <td>0.08</td>\n",
       "      <td>0.09</td>\n",
       "      <td>0.13</td>\n",
       "      <td>0.23</td>\n",
       "      <td>0.10</td>\n",
       "      <td>0.19</td>\n",
       "      <td>...</td>\n",
       "      <td>39649.6</td>\n",
       "      <td>556.2</td>\n",
       "      <td>19337.5</td>\n",
       "      <td>1</td>\n",
       "      <td>11</td>\n",
       "      <td>2021</td>\n",
       "      <td>0</td>\n",
       "      <td>0</td>\n",
       "      <td>0</td>\n",
       "      <td>1</td>\n",
       "    </tr>\n",
       "    <tr>\n",
       "      <th>3</th>\n",
       "      <td>3.36</td>\n",
       "      <td>user-0000000000000003</td>\n",
       "      <td>29308.5</td>\n",
       "      <td>0.12</td>\n",
       "      <td>0.13</td>\n",
       "      <td>0.07</td>\n",
       "      <td>0.18</td>\n",
       "      <td>0.26</td>\n",
       "      <td>0.15</td>\n",
       "      <td>0.08</td>\n",
       "      <td>...</td>\n",
       "      <td>22542.6</td>\n",
       "      <td>351.6</td>\n",
       "      <td>4724.4</td>\n",
       "      <td>1</td>\n",
       "      <td>11</td>\n",
       "      <td>2021</td>\n",
       "      <td>1</td>\n",
       "      <td>0</td>\n",
       "      <td>0</td>\n",
       "      <td>0</td>\n",
       "    </tr>\n",
       "    <tr>\n",
       "      <th>8</th>\n",
       "      <td>3.23</td>\n",
       "      <td>user-0000000000000008</td>\n",
       "      <td>419443.6</td>\n",
       "      <td>0.07</td>\n",
       "      <td>0.09</td>\n",
       "      <td>0.24</td>\n",
       "      <td>0.16</td>\n",
       "      <td>0.19</td>\n",
       "      <td>0.14</td>\n",
       "      <td>0.11</td>\n",
       "      <td>...</td>\n",
       "      <td>24736.7</td>\n",
       "      <td>821.7</td>\n",
       "      <td>4304.1</td>\n",
       "      <td>1</td>\n",
       "      <td>11</td>\n",
       "      <td>2021</td>\n",
       "      <td>1</td>\n",
       "      <td>0</td>\n",
       "      <td>0</td>\n",
       "      <td>0</td>\n",
       "    </tr>\n",
       "    <tr>\n",
       "      <th>10</th>\n",
       "      <td>4.83</td>\n",
       "      <td>user-0000000000000010</td>\n",
       "      <td>314346.8</td>\n",
       "      <td>0.10</td>\n",
       "      <td>0.15</td>\n",
       "      <td>0.16</td>\n",
       "      <td>0.16</td>\n",
       "      <td>0.18</td>\n",
       "      <td>0.16</td>\n",
       "      <td>0.08</td>\n",
       "      <td>...</td>\n",
       "      <td>4191.7</td>\n",
       "      <td>132.7</td>\n",
       "      <td>120294.7</td>\n",
       "      <td>1</td>\n",
       "      <td>11</td>\n",
       "      <td>2021</td>\n",
       "      <td>0</td>\n",
       "      <td>0</td>\n",
       "      <td>0</td>\n",
       "      <td>1</td>\n",
       "    </tr>\n",
       "  </tbody>\n",
       "</table>\n",
       "<p>5 rows × 23 columns</p>\n",
       "</div>"
      ],
      "text/plain": [
       "    risk               clientID  avgMonthlyIncome  expSavings  expTransport  \\\n",
       "1   5.15  user-0000000000000001          162850.8        0.16          0.15   \n",
       "2   7.00  user-0000000000000002          640200.6        0.18          0.08   \n",
       "3   3.36  user-0000000000000003           29308.5        0.12          0.13   \n",
       "8   3.23  user-0000000000000008          419443.6        0.07          0.09   \n",
       "10  4.83  user-0000000000000010          314346.8        0.10          0.15   \n",
       "\n",
       "    expGroceries  expLeisure  expShopping  expUtilities  expOther  ...  \\\n",
       "1           0.11        0.14         0.14          0.12      0.17  ...   \n",
       "2           0.09        0.13         0.23          0.10      0.19  ...   \n",
       "3           0.07        0.18         0.26          0.15      0.08  ...   \n",
       "8           0.24        0.16         0.19          0.14      0.11  ...   \n",
       "10          0.16        0.16         0.18          0.16      0.08  ...   \n",
       "\n",
       "    avgTransaction  avgNumTransactions  largestSingleTransaction  Day  Month  \\\n",
       "1           3005.4               173.9                   49025.8    1     11   \n",
       "2          39649.6               556.2                   19337.5    1     11   \n",
       "3          22542.6               351.6                    4724.4    1     11   \n",
       "8          24736.7               821.7                    4304.1    1     11   \n",
       "10          4191.7               132.7                  120294.7    1     11   \n",
       "\n",
       "    Year  education_BSc  education_MSc  education_PhD  education_college  \n",
       "1   2021              0              0              0                  1  \n",
       "2   2021              0              0              0                  1  \n",
       "3   2021              1              0              0                  0  \n",
       "8   2021              1              0              0                  0  \n",
       "10  2021              0              0              0                  1  \n",
       "\n",
       "[5 rows x 23 columns]"
      ]
     },
     "execution_count": 9,
     "metadata": {},
     "output_type": "execute_result"
    }
   ],
   "source": [
    "# Convert the risk preference data to risk aversion data (= 10 - risk preference * 10) for further optimization \n",
    "df[\"risk\"] = 10 - (df[\"risk\"] * 10)\n",
    "\n",
    "df.head()"
   ]
  },
  {
   "cell_type": "code",
   "execution_count": 10,
   "id": "e553f758",
   "metadata": {},
   "outputs": [
    {
     "name": "stdout",
     "output_type": "stream",
     "text": [
      "<class 'pandas.core.frame.DataFrame'>\n",
      "Int64Index: 50400 entries, 1 to 71999\n",
      "Data columns (total 23 columns):\n",
      " #   Column                    Non-Null Count  Dtype  \n",
      "---  ------                    --------------  -----  \n",
      " 0   risk                      50400 non-null  float64\n",
      " 1   clientID                  50400 non-null  object \n",
      " 2   avgMonthlyIncome          50400 non-null  float64\n",
      " 3   expSavings                50400 non-null  float64\n",
      " 4   expTransport              50400 non-null  float64\n",
      " 5   expGroceries              50400 non-null  float64\n",
      " 6   expLeisure                50400 non-null  float64\n",
      " 7   expShopping               50400 non-null  float64\n",
      " 8   expUtilities              50400 non-null  float64\n",
      " 9   expOther                  50400 non-null  float64\n",
      " 10  cardLevel                 50400 non-null  int64  \n",
      " 11  amountDeposit             50400 non-null  float64\n",
      " 12  amountLoan                50400 non-null  float64\n",
      " 13  avgTransaction            50400 non-null  float64\n",
      " 14  avgNumTransactions        50400 non-null  float64\n",
      " 15  largestSingleTransaction  50400 non-null  float64\n",
      " 16  Day                       50400 non-null  int64  \n",
      " 17  Month                     50400 non-null  int64  \n",
      " 18  Year                      50400 non-null  int64  \n",
      " 19  education_BSc             50400 non-null  uint8  \n",
      " 20  education_MSc             50400 non-null  uint8  \n",
      " 21  education_PhD             50400 non-null  uint8  \n",
      " 22  education_college         50400 non-null  uint8  \n",
      "dtypes: float64(14), int64(4), object(1), uint8(4)\n",
      "memory usage: 7.9+ MB\n"
     ]
    }
   ],
   "source": [
    "df.info()"
   ]
  },
  {
   "cell_type": "code",
   "execution_count": 11,
   "id": "29a4d64c",
   "metadata": {},
   "outputs": [
    {
     "data": {
      "text/plain": [
       "<matplotlib.collections.PathCollection at 0x190997a4e80>"
      ]
     },
     "execution_count": 11,
     "metadata": {},
     "output_type": "execute_result"
    },
    {
     "data": {
      "image/png": "[encoded data removed]",
      "text/plain": [
       "<Figure size 640x480 with 1 Axes>"
      ]
     },
     "metadata": {},
     "output_type": "display_data"
    }
   ],
   "source": [
    "# Plot the relationship between the response variable 'risk' and predictors to see if they may be linearly related\n",
    "plt.scatter(df['avgMonthlyIncome'], y = df['risk'])"
   ]
  },
  {
   "cell_type": "code",
   "execution_count": 12,
   "id": "064b1a0f",
   "metadata": {},
   "outputs": [
    {
     "data": {
      "text/plain": [
       "<matplotlib.collections.PathCollection at 0x190997f5ee0>"
      ]
     },
     "execution_count": 12,
     "metadata": {},
     "output_type": "execute_result"
    },
    {
     "data": {
      "image/png": "[encoded data removed]",
      "text/plain": [
       "<Figure size 640x480 with 1 Axes>"
      ]
     },
     "metadata": {},
     "output_type": "display_data"
    }
   ],
   "source": [
    "plt.scatter(df['expSavings'], y = df['risk'])"
   ]
  },
  {
   "cell_type": "code",
   "execution_count": 13,
   "id": "881513e4",
   "metadata": {},
   "outputs": [
    {
     "data": {
      "text/plain": [
       "<matplotlib.collections.PathCollection at 0x190998668b0>"
      ]
     },
     "execution_count": 13,
     "metadata": {},
     "output_type": "execute_result"
    },
    {
     "data": {
      "image/png": "[encoded data removed]",
      "text/plain": [
       "<Figure size 640x480 with 1 Axes>"
      ]
     },
     "metadata": {},
     "output_type": "display_data"
    }
   ],
   "source": [
    "plt.scatter(df['expTransport'], y = df['risk'])"
   ]
  },
  {
   "cell_type": "markdown",
   "id": "59d9d4d0",
   "metadata": {},
   "source": [
    "It's unlikely that linear regression will be a good model from these graphs. However, let's first try linear regression model to see how it fits the data."
   ]
  },
  {
   "cell_type": "code",
   "execution_count": 14,
   "id": "c3fcbcec",
   "metadata": {},
   "outputs": [],
   "source": [
    "# Drop column 'clientID' since it's not related with risk prediction\n",
    "df_clean = df.drop(columns = ['clientID'])"
   ]
  },
  {
   "cell_type": "code",
   "execution_count": 15,
   "id": "b8c14bc3",
   "metadata": {},
   "outputs": [
    {
     "data": {
      "text/plain": [
       "((40320, 21), (10080, 21), (40320,), (10080,))"
      ]
     },
     "execution_count": 15,
     "metadata": {},
     "output_type": "execute_result"
    }
   ],
   "source": [
    "# Split train and test sets\n",
    "from sklearn.model_selection import train_test_split\n",
    "x = df_clean.drop(['risk'], axis = 1)\n",
    "y = df_clean['risk']\n",
    "x_train, x_test, y_train, y_test = train_test_split(x, y, test_size = 0.2, random_state = 10)\n",
    "x_train.shape, x_test.shape, y_train.shape, y_test.shape"
   ]
  },
  {
   "cell_type": "markdown",
   "id": "886b93e4",
   "metadata": {},
   "source": [
    "# Linear Regression Model"
   ]
  },
  {
   "cell_type": "code",
   "execution_count": 16,
   "id": "c7cf2e3d",
   "metadata": {},
   "outputs": [],
   "source": [
    "train = pd.concat([x_train, y_train], axis = 1)"
   ]
  },
  {
   "cell_type": "code",
   "execution_count": 17,
   "id": "f4f068a0",
   "metadata": {},
   "outputs": [],
   "source": [
    "test = pd.concat([x_test, y_test], axis = 1)"
   ]
  },
  {
   "cell_type": "code",
   "execution_count": 18,
   "id": "89d12cd5",
   "metadata": {},
   "outputs": [],
   "source": [
    "# Linear regression model\n",
    "import statsmodels.formula.api as smf\n",
    "LR_model = smf.ols(formula = 'risk ~' + '+'.join(train.columns.difference(['risk'])), data = train).fit()"
   ]
  },
  {
   "cell_type": "code",
   "execution_count": 19,
   "id": "6046d6f8",
   "metadata": {},
   "outputs": [
    {
     "name": "stdout",
     "output_type": "stream",
     "text": [
      "R2 of linreg-model: 0.7321745396554018\n",
      "R2 of linreg-model OOS: 0.7259103901006394\n"
     ]
    }
   ],
   "source": [
    "from sklearn.metrics import r2_score\n",
    "\n",
    "preds_LR = LR_model.predict(x_train)\n",
    "print(f'R2 of linreg-model: {r2_score(y_train, preds_LR)}')\n",
    "preds_LR = LR_model.predict(x_test)\n",
    "print(f'R2 of linreg-model OOS: {r2_score(y_test, preds_LR)}')"
   ]
  },
  {
   "cell_type": "code",
   "execution_count": 20,
   "id": "43c57608",
   "metadata": {},
   "outputs": [
    {
     "data": {
      "text/html": [
       "<table class=\"simpletable\">\n",
       "<caption>OLS Regression Results</caption>\n",
       "<tr>\n",
       "  <th>Dep. Variable:</th>          <td>risk</td>       <th>  R-squared:         </th> <td>   0.732</td> \n",
       "</tr>\n",
       "<tr>\n",
       "  <th>Model:</th>                   <td>OLS</td>       <th>  Adj. R-squared:    </th> <td>   0.732</td> \n",
       "</tr>\n",
       "<tr>\n",
       "  <th>Method:</th>             <td>Least Squares</td>  <th>  F-statistic:       </th> <td>   5798.</td> \n",
       "</tr>\n",
       "<tr>\n",
       "  <th>Date:</th>             <td>Mon, 13 Mar 2023</td> <th>  Prob (F-statistic):</th>  <td>  0.00</td>  \n",
       "</tr>\n",
       "<tr>\n",
       "  <th>Time:</th>                 <td>16:01:30</td>     <th>  Log-Likelihood:    </th> <td> -51244.</td> \n",
       "</tr>\n",
       "<tr>\n",
       "  <th>No. Observations:</th>      <td> 40320</td>      <th>  AIC:               </th> <td>1.025e+05</td>\n",
       "</tr>\n",
       "<tr>\n",
       "  <th>Df Residuals:</th>          <td> 40300</td>      <th>  BIC:               </th> <td>1.027e+05</td>\n",
       "</tr>\n",
       "<tr>\n",
       "  <th>Df Model:</th>              <td>    19</td>      <th>                     </th>     <td> </td>    \n",
       "</tr>\n",
       "<tr>\n",
       "  <th>Covariance Type:</th>      <td>nonrobust</td>    <th>                     </th>     <td> </td>    \n",
       "</tr>\n",
       "</table>\n",
       "<table class=\"simpletable\">\n",
       "<tr>\n",
       "              <td></td>                <th>coef</th>     <th>std err</th>      <th>t</th>      <th>P>|t|</th>  <th>[0.025</th>    <th>0.975]</th>  \n",
       "</tr>\n",
       "<tr>\n",
       "  <th>Intercept</th>                <td>   -0.8209</td> <td>    2.272</td> <td>   -0.361</td> <td> 0.718</td> <td>   -5.274</td> <td>    3.633</td>\n",
       "</tr>\n",
       "<tr>\n",
       "  <th>Day</th>                      <td>   -0.8209</td> <td>    2.272</td> <td>   -0.361</td> <td> 0.718</td> <td>   -5.274</td> <td>    3.633</td>\n",
       "</tr>\n",
       "<tr>\n",
       "  <th>Month</th>                    <td>   -0.0001</td> <td>    0.001</td> <td>   -0.104</td> <td> 0.917</td> <td>   -0.003</td> <td>    0.002</td>\n",
       "</tr>\n",
       "<tr>\n",
       "  <th>Year</th>                     <td>    0.0026</td> <td>    0.003</td> <td>    1.017</td> <td> 0.309</td> <td>   -0.002</td> <td>    0.007</td>\n",
       "</tr>\n",
       "<tr>\n",
       "  <th>amountDeposit</th>            <td> 6.312e-08</td> <td> 4.65e-08</td> <td>    1.357</td> <td> 0.175</td> <td>-2.81e-08</td> <td> 1.54e-07</td>\n",
       "</tr>\n",
       "<tr>\n",
       "  <th>amountLoan</th>               <td> 2.287e-06</td> <td> 6.54e-08</td> <td>   34.965</td> <td> 0.000</td> <td> 2.16e-06</td> <td> 2.41e-06</td>\n",
       "</tr>\n",
       "<tr>\n",
       "  <th>avgMonthlyIncome</th>         <td> 1.317e-07</td> <td> 2.08e-08</td> <td>    6.345</td> <td> 0.000</td> <td>  9.1e-08</td> <td> 1.72e-07</td>\n",
       "</tr>\n",
       "<tr>\n",
       "  <th>avgNumTransactions</th>       <td>   -0.0001</td> <td> 1.44e-05</td> <td>   -7.141</td> <td> 0.000</td> <td>   -0.000</td> <td>-7.48e-05</td>\n",
       "</tr>\n",
       "<tr>\n",
       "  <th>avgTransaction</th>           <td>-1.143e-06</td> <td> 2.73e-07</td> <td>   -4.186</td> <td> 0.000</td> <td>-1.68e-06</td> <td>-6.08e-07</td>\n",
       "</tr>\n",
       "<tr>\n",
       "  <th>cardLevel</th>                <td>   -0.2092</td> <td>    0.005</td> <td>  -46.321</td> <td> 0.000</td> <td>   -0.218</td> <td>   -0.200</td>\n",
       "</tr>\n",
       "<tr>\n",
       "  <th>education_BSc</th>            <td>   -0.4418</td> <td>    0.568</td> <td>   -0.778</td> <td> 0.437</td> <td>   -1.555</td> <td>    0.672</td>\n",
       "</tr>\n",
       "<tr>\n",
       "  <th>education_MSc</th>            <td>   -1.1113</td> <td>    0.568</td> <td>   -1.956</td> <td> 0.050</td> <td>   -2.225</td> <td>    0.002</td>\n",
       "</tr>\n",
       "<tr>\n",
       "  <th>education_PhD</th>            <td>   -1.2619</td> <td>    0.568</td> <td>   -2.221</td> <td> 0.026</td> <td>   -2.375</td> <td>   -0.148</td>\n",
       "</tr>\n",
       "<tr>\n",
       "  <th>education_college</th>        <td>    1.9941</td> <td>    0.568</td> <td>    3.510</td> <td> 0.000</td> <td>    0.880</td> <td>    3.108</td>\n",
       "</tr>\n",
       "<tr>\n",
       "  <th>expGroceries</th>             <td>    0.3126</td> <td>    0.584</td> <td>    0.535</td> <td> 0.592</td> <td>   -0.832</td> <td>    1.457</td>\n",
       "</tr>\n",
       "<tr>\n",
       "  <th>expLeisure</th>               <td>    0.2963</td> <td>    0.581</td> <td>    0.510</td> <td> 0.610</td> <td>   -0.842</td> <td>    1.434</td>\n",
       "</tr>\n",
       "<tr>\n",
       "  <th>expOther</th>                 <td>    0.2133</td> <td>    0.585</td> <td>    0.365</td> <td> 0.715</td> <td>   -0.932</td> <td>    1.359</td>\n",
       "</tr>\n",
       "<tr>\n",
       "  <th>expSavings</th>               <td>    0.3737</td> <td>    0.586</td> <td>    0.638</td> <td> 0.524</td> <td>   -0.774</td> <td>    1.522</td>\n",
       "</tr>\n",
       "<tr>\n",
       "  <th>expShopping</th>              <td>    0.1856</td> <td>    0.583</td> <td>    0.318</td> <td> 0.750</td> <td>   -0.957</td> <td>    1.328</td>\n",
       "</tr>\n",
       "<tr>\n",
       "  <th>expTransport</th>             <td>    0.3579</td> <td>    0.581</td> <td>    0.616</td> <td> 0.538</td> <td>   -0.781</td> <td>    1.496</td>\n",
       "</tr>\n",
       "<tr>\n",
       "  <th>expUtilities</th>             <td>    0.1998</td> <td>    0.583</td> <td>    0.342</td> <td> 0.732</td> <td>   -0.944</td> <td>    1.343</td>\n",
       "</tr>\n",
       "<tr>\n",
       "  <th>largestSingleTransaction</th> <td> 3.146e-07</td> <td> 6.16e-08</td> <td>    5.107</td> <td> 0.000</td> <td> 1.94e-07</td> <td> 4.35e-07</td>\n",
       "</tr>\n",
       "</table>\n",
       "<table class=\"simpletable\">\n",
       "<tr>\n",
       "  <th>Omnibus:</th>       <td>8443.516</td> <th>  Durbin-Watson:     </th> <td>   1.989</td> \n",
       "</tr>\n",
       "<tr>\n",
       "  <th>Prob(Omnibus):</th>  <td> 0.000</td>  <th>  Jarque-Bera (JB):  </th> <td>75517.760</td>\n",
       "</tr>\n",
       "<tr>\n",
       "  <th>Skew:</th>           <td> 0.756</td>  <th>  Prob(JB):          </th> <td>    0.00</td> \n",
       "</tr>\n",
       "<tr>\n",
       "  <th>Kurtosis:</th>       <td> 9.532</td>  <th>  Cond. No.          </th> <td>4.15e+21</td> \n",
       "</tr>\n",
       "</table><br/><br/>Notes:<br/>[1] Standard Errors assume that the covariance matrix of the errors is correctly specified.<br/>[2] The smallest eigenvalue is 3.65e-28. This might indicate that there are<br/>strong multicollinearity problems or that the design matrix is singular."
      ],
      "text/plain": [
       "<class 'statsmodels.iolib.summary.Summary'>\n",
       "\"\"\"\n",
       "                            OLS Regression Results                            \n",
       "==============================================================================\n",
       "Dep. Variable:                   risk   R-squared:                       0.732\n",
       "Model:                            OLS   Adj. R-squared:                  0.732\n",
       "Method:                 Least Squares   F-statistic:                     5798.\n",
       "Date:                Mon, 13 Mar 2023   Prob (F-statistic):               0.00\n",
       "Time:                        16:01:30   Log-Likelihood:                -51244.\n",
       "No. Observations:               40320   AIC:                         1.025e+05\n",
       "Df Residuals:                   40300   BIC:                         1.027e+05\n",
       "Df Model:                          19                                         \n",
       "Covariance Type:            nonrobust                                         \n",
       "============================================================================================\n",
       "                               coef    std err          t      P>|t|      [0.025      0.975]\n",
       "--------------------------------------------------------------------------------------------\n",
       "Intercept                   -0.8209      2.272     -0.361      0.718      -5.274       3.633\n",
       "Day                         -0.8209      2.272     -0.361      0.718      -5.274       3.633\n",
       "Month                       -0.0001      0.001     -0.104      0.917      -0.003       0.002\n",
       "Year                         0.0026      0.003      1.017      0.309      -0.002       0.007\n",
       "amountDeposit             6.312e-08   4.65e-08      1.357      0.175   -2.81e-08    1.54e-07\n",
       "amountLoan                2.287e-06   6.54e-08     34.965      0.000    2.16e-06    2.41e-06\n",
       "avgMonthlyIncome          1.317e-07   2.08e-08      6.345      0.000     9.1e-08    1.72e-07\n",
       "avgNumTransactions          -0.0001   1.44e-05     -7.141      0.000      -0.000   -7.48e-05\n",
       "avgTransaction           -1.143e-06   2.73e-07     -4.186      0.000   -1.68e-06   -6.08e-07\n",
       "cardLevel                   -0.2092      0.005    -46.321      0.000      -0.218      -0.200\n",
       "education_BSc               -0.4418      0.568     -0.778      0.437      -1.555       0.672\n",
       "education_MSc               -1.1113      0.568     -1.956      0.050      -2.225       0.002\n",
       "education_PhD               -1.2619      0.568     -2.221      0.026      -2.375      -0.148\n",
       "education_college            1.9941      0.568      3.510      0.000       0.880       3.108\n",
       "expGroceries                 0.3126      0.584      0.535      0.592      -0.832       1.457\n",
       "expLeisure                   0.2963      0.581      0.510      0.610      -0.842       1.434\n",
       "expOther                     0.2133      0.585      0.365      0.715      -0.932       1.359\n",
       "expSavings                   0.3737      0.586      0.638      0.524      -0.774       1.522\n",
       "expShopping                  0.1856      0.583      0.318      0.750      -0.957       1.328\n",
       "expTransport                 0.3579      0.581      0.616      0.538      -0.781       1.496\n",
       "expUtilities                 0.1998      0.583      0.342      0.732      -0.944       1.343\n",
       "largestSingleTransaction  3.146e-07   6.16e-08      5.107      0.000    1.94e-07    4.35e-07\n",
       "==============================================================================\n",
       "Omnibus:                     8443.516   Durbin-Watson:                   1.989\n",
       "Prob(Omnibus):                  0.000   Jarque-Bera (JB):            75517.760\n",
       "Skew:                           0.756   Prob(JB):                         0.00\n",
       "Kurtosis:                       9.532   Cond. No.                     4.15e+21\n",
       "==============================================================================\n",
       "\n",
       "Notes:\n",
       "[1] Standard Errors assume that the covariance matrix of the errors is correctly specified.\n",
       "[2] The smallest eigenvalue is 3.65e-28. This might indicate that there are\n",
       "strong multicollinearity problems or that the design matrix is singular.\n",
       "\"\"\""
      ]
     },
     "execution_count": 20,
     "metadata": {},
     "output_type": "execute_result"
    }
   ],
   "source": [
    "LR_model.summary()"
   ]
  },
  {
   "cell_type": "markdown",
   "id": "1b6a20fa",
   "metadata": {},
   "source": [
    "We can observe from the p-value that variables 'amountLoan', 'avgMonthlyIncome', 'avgNumTransactions', 'avgTransaction', 'cardLevel', 'education_BSc', 'education_MSc', 'education_PhD', 'largestSingleTransaction' can be concluded as significant variables. "
   ]
  },
  {
   "cell_type": "markdown",
   "id": "b682e0fa",
   "metadata": {},
   "source": [
    "# Regression Tree Model"
   ]
  },
  {
   "cell_type": "code",
   "execution_count": 21,
   "id": "2644ad4a",
   "metadata": {},
   "outputs": [
    {
     "data": {
      "text/plain": [
       "GridSearchCV(cv=5,\n",
       "             estimator=DecisionTreeRegressor(min_samples_leaf=5,\n",
       "                                             min_samples_split=10,\n",
       "                                             random_state=10),\n",
       "             param_grid={'ccp_alpha': array([0.0e+00, 2.0e-05, 4.0e-05, 6.0e-05, 8.0e-05, 1.0e-04, 1.2e-04,\n",
       "       1.4e-04, 1.6e-04, 1.8e-04, 2.0e-04, 2.2e-04, 2.4e-04, 2.6e-04,\n",
       "       2.8e-04, 3.0e-04, 3.2e-04, 3.4e-04, 3.6e-04, 3.8e-04, 4.0e-04,\n",
       "       4.2e-04, 4.4e-04, 4.6e-04, 4.8e-04, 5.0e-04, 5.2e-04, 5.4e-04,\n",
       "       5.6e-04, 5.8e-04, 6.0e-04, 6.2e-04, 6.4e-04, 6.6e-04, 6.8e-04,\n",
       "       7.0e-04, 7.2e-04, 7.4e-04, 7.6e-04, 7.8e-04, 8.0e-04, 8.2e-04,\n",
       "       8.4e-04, 8.6e-04, 8.8e-04, 9.0e-04, 9.2e-04, 9.4e-04, 9.6e-04,\n",
       "       9.8e-04, 1.0e-03])},\n",
       "             scoring='r2')"
      ]
     },
     "execution_count": 21,
     "metadata": {},
     "output_type": "execute_result"
    }
   ],
   "source": [
    "# Regression tree model\n",
    "from sklearn.model_selection import GridSearchCV\n",
    "from sklearn.tree import DecisionTreeRegressor\n",
    "\n",
    "# Range for the complexity parameter value\n",
    "grid_values = {'ccp_alpha': np.linspace(0, 0.001, 51)}\n",
    "\n",
    "# The decision tree regressor\n",
    "dtr = DecisionTreeRegressor(min_samples_leaf = 5, min_samples_split = 10, random_state = 10)\n",
    "\n",
    "# To find the optimal complexity parameter value using 5-fold cross validation\n",
    "dtr_cv = GridSearchCV(dtr, param_grid = grid_values, scoring = 'r2', cv = 5 , verbose = 0)\n",
    "dtr_cv.fit(x_train, y_train)"
   ]
  },
  {
   "cell_type": "code",
   "execution_count": 22,
   "id": "5bcf13d0",
   "metadata": {},
   "outputs": [
    {
     "name": "stdout",
     "output_type": "stream",
     "text": [
      "Best ccp_alpha {'ccp_alpha': 0.00062}\n"
     ]
    }
   ],
   "source": [
    "# Print the optimal complexity parameter value for our model\n",
    "print('Best ccp_alpha', dtr_cv.best_params_) "
   ]
  },
  {
   "cell_type": "code",
   "execution_count": 23,
   "id": "2e9ea466",
   "metadata": {},
   "outputs": [
    {
     "data": {
      "text/plain": [
       "DecisionTreeRegressor(ccp_alpha=0.00062, min_samples_leaf=5,\n",
       "                      min_samples_split=20, random_state=10)"
      ]
     },
     "execution_count": 23,
     "metadata": {},
     "output_type": "execute_result"
    }
   ],
   "source": [
    "# Regression tree model with the optimal ccp alpha value\n",
    "dtr_final = DecisionTreeRegressor(min_samples_leaf = 5, \n",
    "                                  min_samples_split = 20, \n",
    "                                  ccp_alpha = 0.00062,\n",
    "                                  random_state = 10)\n",
    "dtr_final.fit(x_train, y_train)"
   ]
  },
  {
   "cell_type": "code",
   "execution_count": 24,
   "id": "6ae7f8b4",
   "metadata": {},
   "outputs": [
    {
     "data": {
      "text/plain": [
       "GridSearchCV(cv=5,\n",
       "             estimator=RandomForestRegressor(min_samples_leaf=5,\n",
       "                                             n_estimators=500,\n",
       "                                             random_state=10),\n",
       "             param_grid={'max_features': array([ 1,  3,  5,  7,  9, 11, 13, 15, 18])},\n",
       "             scoring='r2')"
      ]
     },
     "execution_count": 24,
     "metadata": {},
     "output_type": "execute_result"
    }
   ],
   "source": [
    "# Random forest model\n",
    "from sklearn.ensemble import RandomForestRegressor\n",
    "\n",
    "# Range for the max_features\n",
    "grid_values = {'max_features': np.linspace(1,18,9, dtype = 'int32')} \n",
    "\n",
    "# Random forest model\n",
    "rf = RandomForestRegressor(min_samples_leaf = 5, n_estimators = 500, random_state = 10) \n",
    "\n",
    "# Choosing the max features by a 5-fold cross validation\n",
    "rf_cv = GridSearchCV(rf, param_grid = grid_values, scoring = 'r2', cv = 5)\n",
    "rf_cv.fit(x_train, y_train)"
   ]
  },
  {
   "cell_type": "code",
   "execution_count": 25,
   "id": "f09652c3",
   "metadata": {},
   "outputs": [
    {
     "name": "stdout",
     "output_type": "stream",
     "text": [
      "{'max_features': 15}\n"
     ]
    }
   ],
   "source": [
    "print(rf_cv.best_params_)"
   ]
  },
  {
   "cell_type": "code",
   "execution_count": 26,
   "id": "d4144e26",
   "metadata": {},
   "outputs": [
    {
     "data": {
      "text/plain": [
       "RandomForestRegressor(max_features=15, min_samples_leaf=5, n_estimators=500,\n",
       "                      random_state=10)"
      ]
     },
     "execution_count": 26,
     "metadata": {},
     "output_type": "execute_result"
    }
   ],
   "source": [
    "# Random forest model with the optimal max_features value\n",
    "rf_final = RandomForestRegressor(min_samples_leaf = 5, \n",
    "                                 n_estimators = 500, \n",
    "                                 max_features = 15,\n",
    "                                 random_state = 10) \n",
    "rf_final.fit(x_train, y_train)"
   ]
  },
  {
   "cell_type": "code",
   "execution_count": 27,
   "id": "004bad67",
   "metadata": {},
   "outputs": [],
   "source": [
    "# Define a function to compute the out-of-sample R-squared of a model using the test set\n",
    "def OSR2(model, df_train, df_test, dependent_var):   \n",
    "    \n",
    "    y_test = df_test[dependent_var]\n",
    "    y_pred = model.predict(df_test)\n",
    "    SSE = np.sum((y_test - y_pred)**2)\n",
    "    SST = np.sum((y_test - np.mean(df_train[dependent_var]))**2)    \n",
    "    \n",
    "    return 1 - SSE/SST"
   ]
  },
  {
   "cell_type": "markdown",
   "id": "137e1ddb",
   "metadata": {},
   "source": [
    "# Evaluation"
   ]
  },
  {
   "cell_type": "code",
   "execution_count": 28,
   "id": "5722b87a",
   "metadata": {},
   "outputs": [
    {
     "data": {
      "text/html": [
       "<div>\n",
       "<style scoped>\n",
       "    .dataframe tbody tr th:only-of-type {\n",
       "        vertical-align: middle;\n",
       "    }\n",
       "\n",
       "    .dataframe tbody tr th {\n",
       "        vertical-align: top;\n",
       "    }\n",
       "\n",
       "    .dataframe thead th {\n",
       "        text-align: right;\n",
       "    }\n",
       "</style>\n",
       "<table border=\"1\" class=\"dataframe\">\n",
       "  <thead>\n",
       "    <tr style=\"text-align: right;\">\n",
       "      <th></th>\n",
       "      <th>OSR2 Score</th>\n",
       "    </tr>\n",
       "  </thead>\n",
       "  <tbody>\n",
       "    <tr>\n",
       "      <th>Linear Regression</th>\n",
       "      <td>0.725935</td>\n",
       "    </tr>\n",
       "    <tr>\n",
       "      <th>Regression Tree</th>\n",
       "      <td>0.915090</td>\n",
       "    </tr>\n",
       "    <tr>\n",
       "      <th>Random Forest</th>\n",
       "      <td>0.930300</td>\n",
       "    </tr>\n",
       "  </tbody>\n",
       "</table>\n",
       "</div>"
      ],
      "text/plain": [
       "                   OSR2 Score\n",
       "Linear Regression    0.725935\n",
       "Regression Tree      0.915090\n",
       "Random Forest        0.930300"
      ]
     },
     "execution_count": 28,
     "metadata": {},
     "output_type": "execute_result"
    }
   ],
   "source": [
    "pd.DataFrame({'OSR2 Score':[OSR2(LR_model, train, test, 'risk'), \n",
    "                          round(r2_score(y_test, dtr_final.predict(x_test)), 5),\n",
    "                          round(r2_score(y_test, rf_final.predict(x_test)), 5)\n",
    "                          ],\n",
    "            },\n",
    "             index=['Linear Regression', \"Regression Tree\", \"Random Forest\"])"
   ]
  },
  {
   "cell_type": "markdown",
   "id": "14b736a7",
   "metadata": {},
   "source": [
    "Based on $OSR^2$ values, random forest model performs the best."
   ]
  },
  {
   "cell_type": "markdown",
   "id": "3262afcc",
   "metadata": {},
   "source": [
    "# Download Data for Further Optimization Analysis"
   ]
  },
  {
   "cell_type": "code",
   "execution_count": 29,
   "id": "c79d4f9c",
   "metadata": {},
   "outputs": [],
   "source": [
    "# Download risk aversion data from best model for further optimization analysis\n",
    "# Predicted risk aversion data\n",
    "risk_data = dtr_final.predict(x)\n",
    "\n",
    "# Add client ID \n",
    "ID = df['clientID']\n",
    "df_risk = pd.DataFrame(ID)\n",
    "\n",
    "# Add risk aversion data to each client\n",
    "df_risk['RiskAversion'] = risk_data.tolist()"
   ]
  },
  {
   "cell_type": "code",
   "execution_count": 30,
   "id": "ddf303b0",
   "metadata": {},
   "outputs": [],
   "source": [
    "# Data Download\n",
    "pd.DataFrame(df_risk).to_csv('Risk_Aversion_Data.csv', index = False)  "
   ]
  },
  {
   "cell_type": "code",
   "execution_count": 31,
   "id": "918bdb13",
   "metadata": {},
   "outputs": [],
   "source": [
    "# Classification for risk aversion data\n",
    "Aggressive = df_risk[(df_risk['RiskAversion'] >= 0) & (df_risk['RiskAversion'] < 3.33)]\n",
    "Moderate = df_risk[(df_risk['RiskAversion'] >= 3.33) & (df_risk['RiskAversion'] < 6.67)]\n",
    "Conservative = df_risk[(df_risk['RiskAversion'] >= 6.67) & (df_risk['RiskAversion'] <= 10)]"
   ]
  },
  {
   "cell_type": "code",
   "execution_count": 32,
   "id": "591ef69d",
   "metadata": {},
   "outputs": [],
   "source": [
    "# Classification Data Download\n",
    "pd.DataFrame(Aggressive).to_csv('Risk_Aversion_Aggressive.csv', index = False) \n",
    "pd.DataFrame(Moderate).to_csv('Risk_Aversion_Moderate.csv', index = False) \n",
    "pd.DataFrame(Conservative).to_csv('Risk_Aversion_Conservative.csv', index = False) "
   ]
  }
 ],
 "metadata": {
  "kernelspec": {
   "display_name": "Python 3 (ipykernel)",
   "language": "python",
   "name": "python3"
  },
  "language_info": {
   "codemirror_mode": {
    "name": "ipython",
    "version": 3
   },
   "file_extension": ".py",
   "mimetype": "text/x-python",
   "name": "python",
   "nbconvert_exporter": "python",
   "pygments_lexer": "ipython3",
   "version": "3.9.13"
  }
 },
 "nbformat": 4,
 "nbformat_minor": 5
}
